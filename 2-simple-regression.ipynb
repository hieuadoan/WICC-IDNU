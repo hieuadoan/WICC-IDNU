{
 "cells": [
  {
   "cell_type": "code",
   "execution_count": 1,
   "metadata": {},
   "outputs": [],
   "source": [
    "import torch"
   ]
  },
  {
   "cell_type": "code",
   "execution_count": 2,
   "metadata": {},
   "outputs": [],
   "source": [
    "# Solve the following system of equations:\n",
    "#  x +  y +  z = 2\n",
    "# 6x - 4y + 5z = 31\n",
    "# 5x + 2y + 2z = 13\n",
    "\n",
    "# Convert to matrix form XW = Y, where W is the unknown vector [x, y, z]\n",
    "X = torch.tensor([[1, 1, 1], [6, -4, 5], [5, 2, 2]], dtype=torch.float32)\n",
    "Y = torch.tensor([2, 31, 13], dtype=torch.float32)"
   ]
  },
  {
   "cell_type": "code",
   "execution_count": 3,
   "metadata": {},
   "outputs": [
    {
     "name": "stdout",
     "output_type": "stream",
     "text": [
      "tensor([ 3.0000, -2.0000,  1.0000])\n"
     ]
    }
   ],
   "source": [
    "# Solve the system of equations\n",
    "W_true = torch.linalg.solve(X, Y)\n",
    "print(W_true)"
   ]
  },
  {
   "cell_type": "code",
   "execution_count": 11,
   "metadata": {},
   "outputs": [
    {
     "name": "stdout",
     "output_type": "stream",
     "text": [
      "Initial W = tensor([0.3367, 0.1288, 0.2345], requires_grad=True)\n",
      "Epoch 0: loss = 305.3394775390625, W = tensor([ 1.8313, -0.4766,  1.3284], requires_grad=True), Y_pred = [0.69996214 2.6772163  2.4099953 ]\n",
      "Epoch 200: loss = 0.0753239318728447, W = tensor([ 2.6513, -1.7899,  1.5901], requires_grad=True), Y_pred = [ 2.452855 31.018513 12.856643]\n",
      "Epoch 400: loss = 0.02344093658030033, W = tensor([ 2.8055, -1.8828,  1.3292], requires_grad=True), Y_pred = [ 2.2526271 31.010326  12.920027 ]\n",
      "Epoch 600: loss = 0.007294859737157822, W = tensor([ 2.8915, -1.9346,  1.1837], requires_grad=True), Y_pred = [ 2.1409292 31.005764  12.955387 ]\n",
      "Epoch 800: loss = 0.0022702051792293787, W = tensor([ 2.9395, -1.9635,  1.1025], requires_grad=True), Y_pred = [ 2.0786185 31.003214  12.975112 ]\n",
      "Epoch 1000: loss = 0.0007064921665005386, W = tensor([ 2.9662, -1.9797,  1.0572], requires_grad=True), Y_pred = [ 2.0438578 31.001793  12.986116 ]\n",
      "Epoch 1200: loss = 0.00021986209321767092, W = tensor([ 2.9812, -1.9887,  1.0319], requires_grad=True), Y_pred = [ 2.024466 31.001001 12.992254]\n",
      "Epoch 1400: loss = 6.842909351689741e-05, W = tensor([ 2.9895, -1.9937,  1.0178], requires_grad=True), Y_pred = [ 2.013649 31.000559 12.995678]\n",
      "Epoch 1600: loss = 2.1298656065482646e-05, W = tensor([ 2.9941, -1.9965,  1.0099], requires_grad=True), Y_pred = [ 2.0076146 31.00031   12.997588 ]\n",
      "Epoch 1800: loss = 6.6283350861340296e-06, W = tensor([ 2.9967, -1.9980,  1.0055], requires_grad=True), Y_pred = [ 2.0042481 31.000174  12.998655 ]\n",
      "Epoch 2000: loss = 2.060810629700427e-06, W = tensor([ 2.9982, -1.9989,  1.0031], requires_grad=True), Y_pred = [ 2.002369 31.000093 12.99925 ]\n",
      "Epoch 2200: loss = 6.416997280211945e-07, W = tensor([ 2.9990, -1.9994,  1.0017], requires_grad=True), Y_pred = [ 2.001322 31.000053 12.999582]\n",
      "Epoch 2400: loss = 2.0012673473956966e-07, W = tensor([ 2.9994, -1.9997,  1.0010], requires_grad=True), Y_pred = [ 2.0007381 31.00003   12.999766 ]\n",
      "Epoch 2600: loss = 6.224098569873604e-08, W = tensor([ 2.9997, -1.9998,  1.0005], requires_grad=True), Y_pred = [ 2.0004117 31.00002   12.99987  ]\n",
      "Epoch 2800: loss = 1.9435901776887476e-08, W = tensor([ 2.9998, -1.9999,  1.0003], requires_grad=True), Y_pred = [ 2.0002298 31.00001   12.999927 ]\n",
      "Epoch 3000: loss = 6.164024402011137e-09, W = tensor([ 2.9999, -1.9999,  1.0002], requires_grad=True), Y_pred = [ 2.0001292 31.000006  12.999958 ]\n",
      "Epoch 3200: loss = 1.890839484985918e-09, W = tensor([ 2.9999, -2.0000,  1.0001], requires_grad=True), Y_pred = [ 2.0000715 31.000006  12.999977 ]\n",
      "Epoch 3400: loss = 5.988264883960426e-10, W = tensor([ 3.0000, -2.0000,  1.0001], requires_grad=True), Y_pred = [ 2.0000405 31.        12.999988 ]\n",
      "Epoch 3600: loss = 2.455635694786906e-10, W = tensor([ 3.0000, -2.0000,  1.0000], requires_grad=True), Y_pred = [ 2.0000257 31.        12.999991 ]\n",
      "Epoch 3800: loss = 2.455635694786906e-10, W = tensor([ 3.0000, -2.0000,  1.0000], requires_grad=True), Y_pred = [ 2.0000257 31.        12.999991 ]\n",
      "Epoch 4000: loss = 2.455635694786906e-10, W = tensor([ 3.0000, -2.0000,  1.0000], requires_grad=True), Y_pred = [ 2.0000257 31.        12.999991 ]\n",
      "Epoch 4200: loss = 2.455635694786906e-10, W = tensor([ 3.0000, -2.0000,  1.0000], requires_grad=True), Y_pred = [ 2.0000257 31.        12.999991 ]\n",
      "Epoch 4400: loss = 2.455635694786906e-10, W = tensor([ 3.0000, -2.0000,  1.0000], requires_grad=True), Y_pred = [ 2.0000257 31.        12.999991 ]\n",
      "Epoch 4600: loss = 2.455635694786906e-10, W = tensor([ 3.0000, -2.0000,  1.0000], requires_grad=True), Y_pred = [ 2.0000257 31.        12.999991 ]\n",
      "Epoch 4800: loss = 2.455635694786906e-10, W = tensor([ 3.0000, -2.0000,  1.0000], requires_grad=True), Y_pred = [ 2.0000257 31.        12.999991 ]\n"
     ]
    }
   ],
   "source": [
    "# Using neural network\n",
    "#W = torch.tensor([0., 0., 0.], requires_grad=True)\n",
    "g = torch.Generator().manual_seed(42)\n",
    "W = torch.randn(3, requires_grad=True, generator=g)\n",
    "print(f'Initial W = {W}')\n",
    "losses = []\n",
    "lr = 0.01\n",
    "for epoch in range(5000):\n",
    "    Y_pred = X @ W\n",
    "    loss = torch.mean((Y_pred - Y)**2)\n",
    "    losses.append(loss.item())\n",
    "    loss.backward()\n",
    "    with torch.no_grad():\n",
    "        W -= lr * W.grad\n",
    "        W.grad.zero_()\n",
    "    if epoch % 200 == 0:\n",
    "        print(f'Epoch {epoch}: loss = {loss.item()}, W = {W}, Y_pred = {Y_pred.detach().numpy()}')\n",
    "  "
   ]
  },
  {
   "cell_type": "code",
   "execution_count": 6,
   "metadata": {},
   "outputs": [
    {
     "data": {
      "image/png": "[encoded data removed]",
      "text/plain": [
       "<Figure size 640x480 with 1 Axes>"
      ]
     },
     "metadata": {},
     "output_type": "display_data"
    }
   ],
   "source": [
    "# Plot the loss\n",
    "import matplotlib.pyplot as plt\n",
    "plt.plot(losses)\n",
    "plt.xlabel('Epoch')\n",
    "plt.ylabel('Loss')\n",
    "plt.show()"
   ]
  }
 ],
 "metadata": {
  "kernelspec": {
   "display_name": "mlmat",
   "language": "python",
   "name": "python3"
  },
  "language_info": {
   "codemirror_mode": {
    "name": "ipython",
    "version": 3
   },
   "file_extension": ".py",
   "mimetype": "text/x-python",
   "name": "python",
   "nbconvert_exporter": "python",
   "pygments_lexer": "ipython3",
   "version": "3.12.3"
  }
 },
 "nbformat": 4,
 "nbformat_minor": 2
}
