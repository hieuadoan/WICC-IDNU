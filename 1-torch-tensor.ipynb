{
 "cells": [
  {
   "cell_type": "code",
   "execution_count": 2,
   "metadata": {},
   "outputs": [],
   "source": [
    "import torch"
   ]
  },
  {
   "cell_type": "code",
   "execution_count": 3,
   "metadata": {},
   "outputs": [
    {
     "name": "stdout",
     "output_type": "stream",
     "text": [
      "tensor([[0.3788, 0.9273],\n",
      "        [0.0085, 0.5893],\n",
      "        [0.6941, 0.5422]]) torch.Size([3, 2]) torch.float32 cpu\n"
     ]
    }
   ],
   "source": [
    "# Creating tensors\n",
    "x = torch.tensor([1, 2])\n",
    "y = torch.tensor([[1, 2], [3, 4]])\n",
    "z = torch.rand(3, 2)\n",
    "print(z, z.shape, z.dtype, z.device)"
   ]
  },
  {
   "cell_type": "code",
   "execution_count": 4,
   "metadata": {},
   "outputs": [
    {
     "name": "stdout",
     "output_type": "stream",
     "text": [
      "tensor([[2, 4],\n",
      "        [4, 6]])\n",
      "tensor([[1.3788, 2.9273],\n",
      "        [1.0085, 2.5893],\n",
      "        [1.6941, 2.5422]])\n"
     ]
    }
   ],
   "source": [
    "# Broadcasting\n",
    "res1 = x + y\n",
    "print(res1)\n",
    "res2 = x + z\n",
    "print(res2)"
   ]
  },
  {
   "cell_type": "code",
   "execution_count": 5,
   "metadata": {},
   "outputs": [
    {
     "name": "stdout",
     "output_type": "stream",
     "text": [
      "tensor([[0.3788, 0.9273, 0.0085],\n",
      "        [0.5893, 0.6941, 0.5422]])\n"
     ]
    }
   ],
   "source": [
    "# Reshaping\n",
    "z = z.view(2, 3)\n",
    "print(z)"
   ]
  },
  {
   "cell_type": "code",
   "execution_count": 6,
   "metadata": {},
   "outputs": [
    {
     "name": "stdout",
     "output_type": "stream",
     "text": [
      "[[0.37881458 0.92725205 0.00847691]\n",
      " [0.5892806  0.6941213  0.54220754]]\n"
     ]
    }
   ],
   "source": [
    "# Converting to numpy\n",
    "z_np = z.numpy()\n",
    "print(z_np)"
   ]
  },
  {
   "cell_type": "code",
   "execution_count": 7,
   "metadata": {},
   "outputs": [
    {
     "name": "stdout",
     "output_type": "stream",
     "text": [
      "tensor([[0.3788, 0.9273, 0.0085],\n",
      "        [0.5893, 0.6941, 0.5422]])\n",
      "tensor(0.9273)\n",
      "tensor([0.3788, 0.9273, 0.0085])\n",
      "tensor([0.9273, 0.6941])\n",
      "0.9272520542144775 <class 'float'>\n"
     ]
    }
   ],
   "source": [
    "# Slice operations\n",
    "print(z)\n",
    "print(z[0, 1])\n",
    "print(z[0, :])\n",
    "print(z[:, 1])\n",
    "print(z[0, 1].item(), type(z[0, 1].item()))\n"
   ]
  },
  {
   "cell_type": "code",
   "execution_count": 8,
   "metadata": {},
   "outputs": [
    {
     "name": "stdout",
     "output_type": "stream",
     "text": [
      "tensor([[1, 2],\n",
      "        [3, 4],\n",
      "        [5, 6],\n",
      "        [7, 8]])\n"
     ]
    }
   ],
   "source": [
    "# Concatenation\n",
    "x = torch.tensor([[1, 2], [3, 4]])\n",
    "y = torch.tensor([[5, 6], [7, 8]])\n",
    "z = torch.cat([x, y], dim=0)\n",
    "print(z)"
   ]
  },
  {
   "cell_type": "code",
   "execution_count": 9,
   "metadata": {},
   "outputs": [
    {
     "data": {
      "text/plain": [
       "tensor([[ 6,  8],\n",
       "        [10, 12]])"
      ]
     },
     "execution_count": 9,
     "metadata": {},
     "output_type": "execute_result"
    }
   ],
   "source": [
    "# Element-wise operations\n",
    "x = torch.tensor([[1, 2], [3, 4]])\n",
    "y = torch.tensor([[5, 6], [7, 8]])\n",
    "z = x + y\n",
    "z"
   ]
  },
  {
   "cell_type": "code",
   "execution_count": 10,
   "metadata": {},
   "outputs": [
    {
     "name": "stdout",
     "output_type": "stream",
     "text": [
      "tensor([[19, 22],\n",
      "        [43, 50]])\n"
     ]
    }
   ],
   "source": [
    "# Matrix multiplication\n",
    "x = torch.tensor([[1, 2], [3, 4]])\n",
    "y = torch.tensor([[5, 6], [7, 8]])\n",
    "z = x @ y\n",
    "print(z)"
   ]
  },
  {
   "cell_type": "code",
   "execution_count": 25,
   "metadata": {},
   "outputs": [
    {
     "name": "stdout",
     "output_type": "stream",
     "text": [
      "tensor(1111.1111, grad_fn=<PowBackward0>)\n",
      "tensor([1., 2., 3.], requires_grad=True)\n",
      "tensor(0.1175, grad_fn=<PowBackward0>)\n",
      "tensor([-1.6958, -1.5944, -1.4930], requires_grad=True)\n",
      "tensor(0.0836, grad_fn=<PowBackward0>)\n",
      "tensor([-1.7206, -1.6274, -1.5343], requires_grad=True)\n",
      "tensor(0.0626, grad_fn=<PowBackward0>)\n",
      "tensor([-1.7401, -1.6534, -1.5668], requires_grad=True)\n",
      "tensor(0.0486, grad_fn=<PowBackward0>)\n",
      "tensor([-1.7560, -1.6747, -1.5933], requires_grad=True)\n",
      "tensor(0.0389, grad_fn=<PowBackward0>)\n",
      "tensor([-1.7693, -1.6924, -1.6155], requires_grad=True)\n",
      "tensor(0.0318, grad_fn=<PowBackward0>)\n",
      "tensor([-1.7806, -1.7075, -1.6344], requires_grad=True)\n",
      "tensor(0.0265, grad_fn=<PowBackward0>)\n",
      "tensor([-1.7904, -1.7206, -1.6507], requires_grad=True)\n",
      "tensor(0.0224, grad_fn=<PowBackward0>)\n",
      "tensor([-1.7990, -1.7320, -1.6650], requires_grad=True)\n",
      "tensor(0.0192, grad_fn=<PowBackward0>)\n",
      "tensor([-1.8066, -1.7422, -1.6777], requires_grad=True)\n"
     ]
    }
   ],
   "source": [
    "# Simple optimization example with torch tensor\n",
    "x = torch.tensor([1.0, 2.0, 3.0], requires_grad=True)\n",
    "target = 0.\n",
    "for i in range(100):\n",
    "    y = x + 2\n",
    "    z = y * y * 2\n",
    "    out = z.mean()\n",
    "    loss = (out - target) ** 2\n",
    "    if i % 10 == 0:\n",
    "        print(loss)\n",
    "        print(x)\n",
    "    # Backward pass\n",
    "    x.grad = None\n",
    "    loss.backward()\n",
    "    \n",
    "    # Update weights\n",
    "    x.data += -0.01 * x.grad\n"
   ]
  },
  {
   "cell_type": "code",
   "execution_count": null,
   "metadata": {},
   "outputs": [],
   "source": []
  }
 ],
 "metadata": {
  "kernelspec": {
   "display_name": "Python 3",
   "language": "python",
   "name": "python3"
  },
  "language_info": {
   "codemirror_mode": {
    "name": "ipython",
    "version": 3
   },
   "file_extension": ".py",
   "mimetype": "text/x-python",
   "name": "python",
   "nbconvert_exporter": "python",
   "pygments_lexer": "ipython3",
   "version": "3.1.undefined"
  }
 },
 "nbformat": 4,
 "nbformat_minor": 2
}
